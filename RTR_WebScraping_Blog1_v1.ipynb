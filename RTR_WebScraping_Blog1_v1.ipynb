{
 "cells": [
  {
   "cell_type": "markdown",
   "metadata": {},
   "source": [
    "# Web-scraping tutorial"
   ]
  },
  {
   "cell_type": "markdown",
   "metadata": {},
   "source": [
    "As far as I know, this hasn't been the specific topic of any particular published study, but any casual consumer can observe that womens clothing tends to have a wider variety of options, including colors. Is Patagonia providing guys with a variety of color options?\n",
    "\n",
    "Collecting data from websites is a great way to build a dataset to analyze and practice your data science skills - in fact, web scraping itself is a data science skill! Many data scientists need to scrape data from the web at some point in their careers, and many data scientists use this skill on the daily! So, it's definitely something worth learning. \n",
    "\n",
    "Until recently, I didn't know that the developer view of a website contained a treasure trove of data, I just thought it was a scary sidebar that popped up when I accidentally pressed the wrong combination of keys on a mac keyboard. \n",
    "\n",
    "However, after learning some basic web scraping techniques, the developer view has gone from intimidating to interesting, and hopefully after reading this post you'll agree. \n",
    "\n",
    "In this tutorial we'll work through a simple web scraping exercise to gather data on items sold on Patagonia (the clothing brand)'s website and finish up with a neat little hypothesis test.\n",
    "\n",
    "This is by no means a comprehensive tutorial, but it should be enough to get you started. Further resources for learning web scraping in Python are listed at the bottom of the page.\n",
    "\n",
    "## Goal: Scrape the item price and color options for each clothing item at Patagonia to compare the average cost and color availability for men's and women's clothing. \n",
    "\n",
    "Why this goal? [Several studies](https://www.insider.com/women-more-expensive-products-2018-8#girls-backpacks-cost-slightly-more-than-boys-11) have found that products for women tend to be pricier than products for men, and this [includes clothing](https://www1.nyc.gov/assets/dca/downloads/pdf/partners/Study-of-Gender-Pricing-in-NYC.pdf)! We want to see if Patagonia falls into this same gender disparity, or if they are doing a good job at pricing their clothes equally, regardless of the \"gender\" \n",
    "\n",
    "(I'm using \"quotes\" above because these gendered categorizations for clothing assume the traditional binary gender identities, which aren't necessarily valid -- you can buy clothing from whichever category you want!)  "
   ]
  },
  {
   "cell_type": "markdown",
   "metadata": {},
   "source": [
    "## Getting Started - Libraries\n",
    "\n",
    "There are several libraries available for web scraping in Python, but in this tutorial we'll be using `BeautifulSoup` and the `urllib`.\n",
    "\n",
    "Other libraries you can use include: `requests`, `Selenium`, and `Scrapy`\n",
    "\n",
    "If you are using Anaconda with Python (as I am now, writing this in a Jupyter Notebook) you can install the the `BeautifulSoup` module in the command line by typing:\n",
    "\n",
    "`conda install BeautifulSoup4` \n",
    "\n",
    "If you use a `pip` install instead you can install the `BeautifulSoup` module by typing: \n",
    "\n",
    "`pip install BeautifulSoup4` \n",
    "\n",
    "The `urllib` module is pre-loaded in Python so you do not need to install it using the command line\n",
    "\n",
    "Other libraries we will use include: \n",
    "\n",
    "* MatPlotLib (for plotting)\n",
    "\n",
    "* Seaborn (for plotting)\n",
    "\n",
    "* Pandas (for working with dataframes)\n",
    "\n",
    "Which you can install using the same method as we used for the `BeautifulSoup` library\n",
    "\n",
    "Once your libraries are installed in your virtual environment, you can import them into your script"
   ]
  },
  {
   "cell_type": "code",
   "execution_count": 1,
   "metadata": {},
   "outputs": [],
   "source": [
    "from bs4 import BeautifulSoup ## bs4 is a submodule within BeautifulSoup that has the functions we need\n",
    "import urllib.request ## we want the request function from the urllib library\n",
    "import pandas as pd\n",
    "import seaborn as sns\n",
    "import matplotlib.pyplot as plt ## pyplot is a submodule within matplotlib\n",
    "%matplotlib inline \n",
    "## this allows us to print the plots in the Jupyter Notebook"
   ]
  },
  {
   "cell_type": "markdown",
   "metadata": {},
   "source": [
    "## Getting Started - \"Inspect\" the Website\n",
    "\n",
    "For this exercise we'll be using [Patagonia website](https://www.patagonia.com/home/)\n",
    "\n",
    "This is where we start to look at the \"developer\" view of a public website. The \"inspect\" view for a webpage's html can be viewed either by right clicking anywhere on the page and selecting insepct, or going to the \"view\" tab in the top browser bar and selecting view > developer> insepct elements. The inspect view will pop up as a side bar on the right of the page. \n",
    "\n",
    "<img src=\"RTRunway_Patagonia_InspectView.png\">\n",
    "\n",
    "\n",
    "### Understanding the webpage html and inspect view\n",
    "\n",
    "Okay, there's a lot to unpack here, and the best thing to do is just play around with this on whatever website you are interested in, but here's a brief overview of what we're looking at: \n",
    "\n",
    "html code contains \"tags\"\n",
    "These tags are denoted by `<...>` in the html code\n",
    "\n",
    "<img src=\"RTRunway_Patagonia_TagExample.png\">\n",
    "\n",
    " \n",
    "Tags contain the information that is responsible for the webpage that we can see!\n",
    "A tag is opened with `<...>` and closed with `</...>`\n",
    "\n",
    "<img src=\"RTRunway_Patagonia_OpenCloseTagExample.png\">\n",
    "\n",
    "You can see as you hover over any tag on in the html code (in the inspect side window) it will highlight the portion of the webpage that the selected tag is responsible for\n",
    "\n",
    "Tags are organized into a tree - the subtags within a tag are \"children\", any tag that has a \"child\" is a \"parent\", and two tags on an equal plane of the html are \"siblings\"\n",
    "\n",
    "To visually inspect a tag's children, you can click the drop down arrow to the left of a tag\n",
    "\n",
    "You can continue to view each tag's children by clicking the drop arrows, and by hovering over each line in the inspect window, you can see the smaller and smaller portion of the website that each tag is responsible for\n",
    "\n",
    "<img src=\"RTRunway_Patagonia_TagChildrenExample.png\">\n",
    "\n",
    "### So what information do we want? \n",
    "\n",
    "Our goal, as stated above, is compare the price and number of color options between the men's and women's clothing. Differences in clothing price might also vary by item category, so we'll want those data as well. \n",
    "\n",
    "Therefore, for each clothing item on the website, we want\n",
    "\n",
    "* item name\n",
    "\n",
    "* item price\n",
    "\n",
    "* item \"gender\"\n",
    "\n",
    "* number of color options for the item\n",
    "\n",
    "* item category (e.g. jacket, shoes, pants, etc.)\n",
    "\n",
    "Before we can get any of that data, we need to send the html information into Python, which we'll do next!"
   ]
  },
  {
   "cell_type": "markdown",
   "metadata": {},
   "source": [
    "## Get the webpage html\n",
    "\n",
    "Finally, now we get to write some code!\n",
    "\n",
    "The basic process for getting the html for a webpage into Python so you can begin extracting data is: \n",
    "\n",
    "1) Load the URL\n",
    "\n",
    "2) Read (or \"open\") the URL in Python\n",
    "\n",
    "3) Parse the URL's html into a BeautifulSoup object\n",
    "\n",
    "Now, our ultimate goal of getting gender/category/price/colors for every clothing item is actually quite complex, so let's start simple and build up.  \n",
    "\n",
    "First, we'll only focus on getting the price and color information from every clothing item in one category from the women's section. We'll start with women's jackets, just because. \n",
    "\n",
    "The URL for women's jackets and vests is: https://www.patagonia.com/shop/womens-jackets-vests"
   ]
  },
  {
   "cell_type": "code",
   "execution_count": 2,
   "metadata": {},
   "outputs": [],
   "source": [
    "## load the URL\n",
    "url = 'https://www.patagonia.com/shop/womens-jackets-vests'"
   ]
  },
  {
   "cell_type": "code",
   "execution_count": 3,
   "metadata": {},
   "outputs": [],
   "source": [
    "## read or \"open\" the URL\n",
    "page = urllib.request.urlopen(url)"
   ]
  },
  {
   "cell_type": "code",
   "execution_count": 4,
   "metadata": {},
   "outputs": [],
   "source": [
    "## parse the URL's html into a BeautifulSoup object\n",
    "soup = BeautifulSoup(page, 'html.parser')"
   ]
  },
  {
   "cell_type": "code",
   "execution_count": 5,
   "metadata": {},
   "outputs": [
    {
     "data": {
      "text/plain": [
       "bs4.BeautifulSoup"
      ]
     },
     "execution_count": 5,
     "metadata": {},
     "output_type": "execute_result"
    }
   ],
   "source": [
    "## see that we've created a BeautifulSoup object\n",
    "type(soup)"
   ]
  },
  {
   "cell_type": "markdown",
   "metadata": {},
   "source": [
    "## Scrape the data from the html!\n",
    "\n",
    "### Getting info on each product\n",
    "\n",
    "You can print that soup object if you want to look at it. If basically looks like a big jumble of html, you've done it right! \n",
    "\n",
    "Now, we can see from inspecting the page that each product is stored under a `div` parent tag with the attributes `class=\"container search-results\"`\n",
    "\n",
    "`BeautifulSoup` has two very useful functions, `.find` and `.find_all` for extracting information from a html\n",
    "\n",
    "`.find` finds the first tag of a designated type (e.g. `div`) and returns a `tag` object\n",
    "\n",
    "`.find_all` will find all the tags of a designated type within an html and returns a list of the results\n",
    "\n",
    "We can use the `.find` function from `BeautifulSoup` to find the specific parent tag that contains ALL the products underneath it (and each product's information is stored in the children tags of the parent tag we are searching for)."
   ]
  },
  {
   "cell_type": "code",
   "execution_count": 6,
   "metadata": {},
   "outputs": [],
   "source": [
    "## get the parent tag that contains all the products\n",
    "products = soup.find('div', attrs = {'class':'container search-results'})"
   ]
  },
  {
   "cell_type": "markdown",
   "metadata": {},
   "source": [
    "We can use `find_all` to search within the parent tag for each of the individual products, which are also stored under `div` tags with the attributes `class=\"product\"` Within these `div` tags there is the information about the product price and the number of color options available for said product. "
   ]
  },
  {
   "cell_type": "code",
   "execution_count": 7,
   "metadata": {},
   "outputs": [],
   "source": [
    "## find all the individual product tags that contain the product data we want to scrape\n",
    "products = products.find_all('div', attrs = {'class':'product'}) "
   ]
  },
  {
   "cell_type": "code",
   "execution_count": 8,
   "metadata": {},
   "outputs": [
    {
     "data": {
      "text/plain": [
       "64"
      ]
     },
     "execution_count": 8,
     "metadata": {},
     "output_type": "execute_result"
    }
   ],
   "source": [
    "## overall there are 64 products on this page\n",
    "len(products)"
   ]
  },
  {
   "cell_type": "markdown",
   "metadata": {},
   "source": [
    "Cool, now we have a list of information for each of the 64 products listed at on the main page of women's jackets and vests. If you want to see what each tag looks like you can print one element of the `products` list and see what it contains. \n",
    "\n",
    "64 products - neat! But you'll notice that if you scroll down to the bottom of the Patagonia page there is a 'load more' button that, you guessed it, loads more products. \n",
    "\n",
    "<img src=\"RTRunway_Patagonia_LoadMoreButton.png\">\n",
    "\n",
    "\n",
    "We want those products too! If you click load more on the website, the rest of the products will indeed load. However, the URL itself doesn't change. Therefore, getting the remaining products' information won't be as simple as reading in another URL and performing the same process as above. \n",
    "\n",
    "Hmmm, so what do we do? We can, within our code, initiate a \"click\" of the \"load more\" button and extract the remaining products that way. \n",
    "\n",
    "First we must find where to \"click.\" The \"load more\" button is stored in the html under the `button` tag with the attributes `class=\"btn btn-lg btn-dark\"` (we figured this out through the inspection panel on the webpage, and because it makes sense that a webpage button would be tagged as, well, a button). "
   ]
  },
  {
   "cell_type": "code",
   "execution_count": 9,
   "metadata": {},
   "outputs": [],
   "source": [
    "## get the button to \"click\"\n",
    "buttons = soup.find_all('button', attrs = {'class': 'btn btn-lg btn-dark'})"
   ]
  },
  {
   "cell_type": "code",
   "execution_count": 10,
   "metadata": {},
   "outputs": [
    {
     "data": {
      "text/plain": [
       "2"
      ]
     },
     "execution_count": 10,
     "metadata": {},
     "output_type": "execute_result"
    }
   ],
   "source": [
    "len(buttons) ## two buttons fit this description"
   ]
  },
  {
   "cell_type": "code",
   "execution_count": 11,
   "metadata": {},
   "outputs": [
    {
     "data": {
      "text/plain": [
       "<button class=\"btn btn-lg btn-dark\" data-url=\"https://www.patagonia.com/on/demandware.store/Sites-patagonia-us-Site/en_US/Search-UpdateGrid?cgid=womens-jackets-vests&amp;start=64&amp;sz=40\">\n",
       "Load More\n",
       "</button>"
      ]
     },
     "execution_count": 11,
     "metadata": {},
     "output_type": "execute_result"
    }
   ],
   "source": [
    "buttons[1] ## we want the second one that will initiate \"load more\""
   ]
  },
  {
   "cell_type": "markdown",
   "metadata": {},
   "source": [
    "We've located our \"load more\" button and we can get the url (that you can see above is stored in the 'data-url' attribute) that the button leads to"
   ]
  },
  {
   "cell_type": "code",
   "execution_count": 12,
   "metadata": {},
   "outputs": [
    {
     "data": {
      "text/plain": [
       "'https://www.patagonia.com/on/demandware.store/Sites-patagonia-us-Site/en_US/Search-UpdateGrid?cgid=womens-jackets-vests&start=64&sz=40'"
      ]
     },
     "execution_count": 12,
     "metadata": {},
     "output_type": "execute_result"
    }
   ],
   "source": [
    "buttons[1].get('data-url')"
   ]
  },
  {
   "cell_type": "markdown",
   "metadata": {},
   "source": [
    "Using the URL, we can initiate a \"click\" within Python to extract the products that this \"load more\" URL leads to"
   ]
  },
  {
   "cell_type": "code",
   "execution_count": 13,
   "metadata": {},
   "outputs": [],
   "source": [
    "url_2 = buttons[1].get('data-url')\n",
    "page_2 = urllib.request.urlopen(url_2)\n",
    "soup_2 = BeautifulSoup(page_2, 'html.parser')\n",
    "products_2 = soup_2.find_all('div', attrs = {'class':'product'})"
   ]
  },
  {
   "cell_type": "code",
   "execution_count": 14,
   "metadata": {},
   "outputs": [
    {
     "data": {
      "text/plain": [
       "24"
      ]
     },
     "execution_count": 14,
     "metadata": {},
     "output_type": "execute_result"
    }
   ],
   "source": [
    "len(products_2) ## information for 24 more products"
   ]
  },
  {
   "cell_type": "code",
   "execution_count": 15,
   "metadata": {},
   "outputs": [],
   "source": [
    "## combine our first and second products lists into one using the simple `+` operator\n",
    "products = products + products_2"
   ]
  },
  {
   "cell_type": "code",
   "execution_count": 16,
   "metadata": {},
   "outputs": [
    {
     "data": {
      "text/plain": [
       "88"
      ]
     },
     "execution_count": 16,
     "metadata": {},
     "output_type": "execute_result"
    }
   ],
   "source": [
    "len(products) ## we have 88 products in women's jackets and vest's category"
   ]
  },
  {
   "cell_type": "markdown",
   "metadata": {},
   "source": [
    "### Item names\n",
    "\n",
    "Overall, we have 88 products from the women's jackets and vests category that we can scrape the product information from (price and number of color options)\n",
    "\n",
    "We'll want to arrange this information into a Pandas dataframe, and in order to keep track all of this info we'll want a dataframe with the columns: item name, item gender, item category, item price, number of item colors \n",
    "\n",
    "Knowing that, we can initaite our data frame with the item name information (our first \"scrape\"!) \n",
    "\n",
    "The names are contained in the `h4` tag with the attributes `class=\"product-tile__name\""
   ]
  },
  {
   "cell_type": "code",
   "execution_count": 17,
   "metadata": {},
   "outputs": [],
   "source": [
    "## scrape the item names\n",
    "item_names = [] ## empty list to add names to\n",
    "for product in products:\n",
    "    item_names.append(product.find('h4', attrs = {'class':'product-tile__name'}).string)"
   ]
  },
  {
   "cell_type": "code",
   "execution_count": 18,
   "metadata": {},
   "outputs": [
    {
     "data": {
      "text/plain": [
       "[\"W's Better Sweater® 1/4-Zip\",\n",
       " \"W's Los Gatos 1/4-Zip\",\n",
       " \"W's Re-Tool Snap-T® Pullover\",\n",
       " \"W's Better Sweater® Jacket\",\n",
       " \"W's Nano Puff® Jacket\"]"
      ]
     },
     "execution_count": 18,
     "metadata": {},
     "output_type": "execute_result"
    }
   ],
   "source": [
    "item_names[0:5] ## look at a slice of the item names"
   ]
  },
  {
   "cell_type": "code",
   "execution_count": 19,
   "metadata": {},
   "outputs": [],
   "source": [
    "## and put that into a dataframe\n",
    "df = pd.DataFrame(item_names, columns = ['item_name'])"
   ]
  },
  {
   "cell_type": "code",
   "execution_count": 20,
   "metadata": {},
   "outputs": [
    {
     "data": {
      "text/html": [
       "<div>\n",
       "<style scoped>\n",
       "    .dataframe tbody tr th:only-of-type {\n",
       "        vertical-align: middle;\n",
       "    }\n",
       "\n",
       "    .dataframe tbody tr th {\n",
       "        vertical-align: top;\n",
       "    }\n",
       "\n",
       "    .dataframe thead th {\n",
       "        text-align: right;\n",
       "    }\n",
       "</style>\n",
       "<table border=\"1\" class=\"dataframe\">\n",
       "  <thead>\n",
       "    <tr style=\"text-align: right;\">\n",
       "      <th></th>\n",
       "      <th>item_name</th>\n",
       "    </tr>\n",
       "  </thead>\n",
       "  <tbody>\n",
       "    <tr>\n",
       "      <th>0</th>\n",
       "      <td>W's Better Sweater® 1/4-Zip</td>\n",
       "    </tr>\n",
       "    <tr>\n",
       "      <th>1</th>\n",
       "      <td>W's Los Gatos 1/4-Zip</td>\n",
       "    </tr>\n",
       "    <tr>\n",
       "      <th>2</th>\n",
       "      <td>W's Re-Tool Snap-T® Pullover</td>\n",
       "    </tr>\n",
       "    <tr>\n",
       "      <th>3</th>\n",
       "      <td>W's Better Sweater® Jacket</td>\n",
       "    </tr>\n",
       "    <tr>\n",
       "      <th>4</th>\n",
       "      <td>W's Nano Puff® Jacket</td>\n",
       "    </tr>\n",
       "    <tr>\n",
       "      <th>...</th>\n",
       "      <td>...</td>\n",
       "    </tr>\n",
       "    <tr>\n",
       "      <th>83</th>\n",
       "      <td>W's Jackson Glacier Jacket</td>\n",
       "    </tr>\n",
       "    <tr>\n",
       "      <th>84</th>\n",
       "      <td>W's Stand Up™ Jacket</td>\n",
       "    </tr>\n",
       "    <tr>\n",
       "      <th>85</th>\n",
       "      <td>W's Ascensionist Jacket</td>\n",
       "    </tr>\n",
       "    <tr>\n",
       "      <th>86</th>\n",
       "      <td>W's Tough Puff Hoody</td>\n",
       "    </tr>\n",
       "    <tr>\n",
       "      <th>87</th>\n",
       "      <td>W's Galvanized Jacket</td>\n",
       "    </tr>\n",
       "  </tbody>\n",
       "</table>\n",
       "<p>88 rows × 1 columns</p>\n",
       "</div>"
      ],
      "text/plain": [
       "                       item_name\n",
       "0    W's Better Sweater® 1/4-Zip\n",
       "1          W's Los Gatos 1/4-Zip\n",
       "2   W's Re-Tool Snap-T® Pullover\n",
       "3     W's Better Sweater® Jacket\n",
       "4          W's Nano Puff® Jacket\n",
       "..                           ...\n",
       "83    W's Jackson Glacier Jacket\n",
       "84          W's Stand Up™ Jacket\n",
       "85       W's Ascensionist Jacket\n",
       "86          W's Tough Puff Hoody\n",
       "87         W's Galvanized Jacket\n",
       "\n",
       "[88 rows x 1 columns]"
      ]
     },
     "execution_count": 20,
     "metadata": {},
     "output_type": "execute_result"
    }
   ],
   "source": [
    "df ## looks good!"
   ]
  },
  {
   "cell_type": "markdown",
   "metadata": {},
   "source": [
    "### Item prices\n",
    "\n",
    "After we have made our dataframe with item names, we can add the price that corresponds to each item\n",
    "\n",
    "The price information is contained in the `span` tag with the attributes `class=\"value\"` and we very specifically want the string information (i.e. the actual price) within the tag, so we further add the function `get('content')` to get the content of the tag"
   ]
  },
  {
   "cell_type": "code",
   "execution_count": 21,
   "metadata": {},
   "outputs": [],
   "source": [
    "prices = []\n",
    "for product in products:\n",
    "    prices.append(product.find('span', attrs = {'class':'value'}).get('content'))\n",
    "    \n",
    "## add to the dataframe\n",
    "df['item_price'] = prices"
   ]
  },
  {
   "cell_type": "code",
   "execution_count": 22,
   "metadata": {},
   "outputs": [
    {
     "data": {
      "text/html": [
       "<div>\n",
       "<style scoped>\n",
       "    .dataframe tbody tr th:only-of-type {\n",
       "        vertical-align: middle;\n",
       "    }\n",
       "\n",
       "    .dataframe tbody tr th {\n",
       "        vertical-align: top;\n",
       "    }\n",
       "\n",
       "    .dataframe thead th {\n",
       "        text-align: right;\n",
       "    }\n",
       "</style>\n",
       "<table border=\"1\" class=\"dataframe\">\n",
       "  <thead>\n",
       "    <tr style=\"text-align: right;\">\n",
       "      <th></th>\n",
       "      <th>item_name</th>\n",
       "      <th>item_price</th>\n",
       "    </tr>\n",
       "  </thead>\n",
       "  <tbody>\n",
       "    <tr>\n",
       "      <th>0</th>\n",
       "      <td>W's Better Sweater® 1/4-Zip</td>\n",
       "      <td>99</td>\n",
       "    </tr>\n",
       "    <tr>\n",
       "      <th>1</th>\n",
       "      <td>W's Los Gatos 1/4-Zip</td>\n",
       "      <td>99</td>\n",
       "    </tr>\n",
       "    <tr>\n",
       "      <th>2</th>\n",
       "      <td>W's Re-Tool Snap-T® Pullover</td>\n",
       "      <td>119</td>\n",
       "    </tr>\n",
       "    <tr>\n",
       "      <th>3</th>\n",
       "      <td>W's Better Sweater® Jacket</td>\n",
       "      <td>139</td>\n",
       "    </tr>\n",
       "    <tr>\n",
       "      <th>4</th>\n",
       "      <td>W's Nano Puff® Jacket</td>\n",
       "      <td>199</td>\n",
       "    </tr>\n",
       "    <tr>\n",
       "      <th>...</th>\n",
       "      <td>...</td>\n",
       "      <td>...</td>\n",
       "    </tr>\n",
       "    <tr>\n",
       "      <th>83</th>\n",
       "      <td>W's Jackson Glacier Jacket</td>\n",
       "      <td>349</td>\n",
       "    </tr>\n",
       "    <tr>\n",
       "      <th>84</th>\n",
       "      <td>W's Stand Up™ Jacket</td>\n",
       "      <td>129</td>\n",
       "    </tr>\n",
       "    <tr>\n",
       "      <th>85</th>\n",
       "      <td>W's Ascensionist Jacket</td>\n",
       "      <td>499</td>\n",
       "    </tr>\n",
       "    <tr>\n",
       "      <th>86</th>\n",
       "      <td>W's Tough Puff Hoody</td>\n",
       "      <td>249</td>\n",
       "    </tr>\n",
       "    <tr>\n",
       "      <th>87</th>\n",
       "      <td>W's Galvanized Jacket</td>\n",
       "      <td>349</td>\n",
       "    </tr>\n",
       "  </tbody>\n",
       "</table>\n",
       "<p>88 rows × 2 columns</p>\n",
       "</div>"
      ],
      "text/plain": [
       "                       item_name item_price\n",
       "0    W's Better Sweater® 1/4-Zip         99\n",
       "1          W's Los Gatos 1/4-Zip         99\n",
       "2   W's Re-Tool Snap-T® Pullover        119\n",
       "3     W's Better Sweater® Jacket        139\n",
       "4          W's Nano Puff® Jacket        199\n",
       "..                           ...        ...\n",
       "83    W's Jackson Glacier Jacket        349\n",
       "84          W's Stand Up™ Jacket        129\n",
       "85       W's Ascensionist Jacket        499\n",
       "86          W's Tough Puff Hoody        249\n",
       "87         W's Galvanized Jacket        349\n",
       "\n",
       "[88 rows x 2 columns]"
      ]
     },
     "execution_count": 22,
     "metadata": {},
     "output_type": "execute_result"
    }
   ],
   "source": [
    "df ## cool!"
   ]
  },
  {
   "cell_type": "markdown",
   "metadata": {},
   "source": [
    "Because we extracted the price information from the tag as a string, but we actually want these data to be stored as numerical values, let's check what kind of data the item prices are stored as and if we need to transform them to numerical"
   ]
  },
  {
   "cell_type": "code",
   "execution_count": 23,
   "metadata": {},
   "outputs": [
    {
     "data": {
      "text/plain": [
       "dtype('O')"
      ]
     },
     "execution_count": 23,
     "metadata": {},
     "output_type": "execute_result"
    }
   ],
   "source": [
    "df['item_price'].dtype ## not numeric"
   ]
  },
  {
   "cell_type": "code",
   "execution_count": 24,
   "metadata": {},
   "outputs": [],
   "source": [
    "df['item_price'] = pd.to_numeric(df['item_price'])"
   ]
  },
  {
   "cell_type": "code",
   "execution_count": 25,
   "metadata": {},
   "outputs": [
    {
     "data": {
      "text/plain": [
       "dtype('int64')"
      ]
     },
     "execution_count": 25,
     "metadata": {},
     "output_type": "execute_result"
    }
   ],
   "source": [
    "df['item_price'].dtype ## now it's numeric"
   ]
  },
  {
   "cell_type": "markdown",
   "metadata": {},
   "source": [
    "### Item colors\n",
    "\n",
    "Alright, with that taken care of, let's see if we can't find a way to count the number of color options available for each item. \n",
    "\n",
    "From inspecting the html code, we can see that this specific information isn't actually contained in the code anywhere. So, we'll have to Macguyver something. \n",
    "\n",
    "What we can see in the code that each product has color swatches, and these swatches each have their own `<li>` tag, therefore, we can count the number of colors available per item by counting the number of `<li>` tags within each item in `products`\n",
    "\n",
    "To count these `<li>` tags we can define a very simple function, which we will call `countProductColors`"
   ]
  },
  {
   "cell_type": "code",
   "execution_count": 26,
   "metadata": {},
   "outputs": [],
   "source": [
    "##define a counting function\n",
    "def countProductColors(product):\n",
    "    \"\"\"Returns the number of color options available for an item on the Patagonia website\"\"\"\n",
    "    temp = product.find_all('li')\n",
    "    num_col = len(temp)\n",
    "    return num_col\n"
   ]
  },
  {
   "cell_type": "markdown",
   "metadata": {},
   "source": [
    "Then we can loop this color swatch counting function over each item within `products`"
   ]
  },
  {
   "cell_type": "code",
   "execution_count": 27,
   "metadata": {},
   "outputs": [],
   "source": [
    "item_colors = []\n",
    "for product in products:\n",
    "    item_colors.append(countProductColors(product))\n",
    "    \n",
    "## add to the dataframe\n",
    "df['item_colors'] = item_colors"
   ]
  },
  {
   "cell_type": "code",
   "execution_count": 28,
   "metadata": {},
   "outputs": [
    {
     "data": {
      "text/html": [
       "<div>\n",
       "<style scoped>\n",
       "    .dataframe tbody tr th:only-of-type {\n",
       "        vertical-align: middle;\n",
       "    }\n",
       "\n",
       "    .dataframe tbody tr th {\n",
       "        vertical-align: top;\n",
       "    }\n",
       "\n",
       "    .dataframe thead th {\n",
       "        text-align: right;\n",
       "    }\n",
       "</style>\n",
       "<table border=\"1\" class=\"dataframe\">\n",
       "  <thead>\n",
       "    <tr style=\"text-align: right;\">\n",
       "      <th></th>\n",
       "      <th>item_name</th>\n",
       "      <th>item_price</th>\n",
       "      <th>item_colors</th>\n",
       "    </tr>\n",
       "  </thead>\n",
       "  <tbody>\n",
       "    <tr>\n",
       "      <th>0</th>\n",
       "      <td>W's Better Sweater® 1/4-Zip</td>\n",
       "      <td>99</td>\n",
       "      <td>9</td>\n",
       "    </tr>\n",
       "    <tr>\n",
       "      <th>1</th>\n",
       "      <td>W's Los Gatos 1/4-Zip</td>\n",
       "      <td>99</td>\n",
       "      <td>6</td>\n",
       "    </tr>\n",
       "    <tr>\n",
       "      <th>2</th>\n",
       "      <td>W's Re-Tool Snap-T® Pullover</td>\n",
       "      <td>119</td>\n",
       "      <td>8</td>\n",
       "    </tr>\n",
       "    <tr>\n",
       "      <th>3</th>\n",
       "      <td>W's Better Sweater® Jacket</td>\n",
       "      <td>139</td>\n",
       "      <td>10</td>\n",
       "    </tr>\n",
       "    <tr>\n",
       "      <th>4</th>\n",
       "      <td>W's Nano Puff® Jacket</td>\n",
       "      <td>199</td>\n",
       "      <td>8</td>\n",
       "    </tr>\n",
       "    <tr>\n",
       "      <th>...</th>\n",
       "      <td>...</td>\n",
       "      <td>...</td>\n",
       "      <td>...</td>\n",
       "    </tr>\n",
       "    <tr>\n",
       "      <th>83</th>\n",
       "      <td>W's Jackson Glacier Jacket</td>\n",
       "      <td>349</td>\n",
       "      <td>2</td>\n",
       "    </tr>\n",
       "    <tr>\n",
       "      <th>84</th>\n",
       "      <td>W's Stand Up™ Jacket</td>\n",
       "      <td>129</td>\n",
       "      <td>2</td>\n",
       "    </tr>\n",
       "    <tr>\n",
       "      <th>85</th>\n",
       "      <td>W's Ascensionist Jacket</td>\n",
       "      <td>499</td>\n",
       "      <td>3</td>\n",
       "    </tr>\n",
       "    <tr>\n",
       "      <th>86</th>\n",
       "      <td>W's Tough Puff Hoody</td>\n",
       "      <td>249</td>\n",
       "      <td>2</td>\n",
       "    </tr>\n",
       "    <tr>\n",
       "      <th>87</th>\n",
       "      <td>W's Galvanized Jacket</td>\n",
       "      <td>349</td>\n",
       "      <td>3</td>\n",
       "    </tr>\n",
       "  </tbody>\n",
       "</table>\n",
       "<p>88 rows × 3 columns</p>\n",
       "</div>"
      ],
      "text/plain": [
       "                       item_name  item_price  item_colors\n",
       "0    W's Better Sweater® 1/4-Zip          99            9\n",
       "1          W's Los Gatos 1/4-Zip          99            6\n",
       "2   W's Re-Tool Snap-T® Pullover         119            8\n",
       "3     W's Better Sweater® Jacket         139           10\n",
       "4          W's Nano Puff® Jacket         199            8\n",
       "..                           ...         ...          ...\n",
       "83    W's Jackson Glacier Jacket         349            2\n",
       "84          W's Stand Up™ Jacket         129            2\n",
       "85       W's Ascensionist Jacket         499            3\n",
       "86          W's Tough Puff Hoody         249            2\n",
       "87         W's Galvanized Jacket         349            3\n",
       "\n",
       "[88 rows x 3 columns]"
      ]
     },
     "execution_count": 28,
     "metadata": {},
     "output_type": "execute_result"
    }
   ],
   "source": [
    "df ## cool! It all worked! That's awesome. "
   ]
  },
  {
   "cell_type": "markdown",
   "metadata": {},
   "source": [
    "The last couple of pieces of information that we are missing from our dataframe is the info on gender and product category associated with each item. \n",
    "\n",
    "To add these, we can simply insert columns with repeated values into our existing dataframe"
   ]
  },
  {
   "cell_type": "code",
   "execution_count": 29,
   "metadata": {},
   "outputs": [],
   "source": [
    "df.insert(0, 'item_gender', 'womens') ## insert the \"gender\" as the first column"
   ]
  },
  {
   "cell_type": "code",
   "execution_count": 30,
   "metadata": {},
   "outputs": [],
   "source": [
    "df.insert(1, 'item_category', 'jackets') ## insert the category as the second column"
   ]
  },
  {
   "cell_type": "code",
   "execution_count": 31,
   "metadata": {},
   "outputs": [
    {
     "data": {
      "text/html": [
       "<div>\n",
       "<style scoped>\n",
       "    .dataframe tbody tr th:only-of-type {\n",
       "        vertical-align: middle;\n",
       "    }\n",
       "\n",
       "    .dataframe tbody tr th {\n",
       "        vertical-align: top;\n",
       "    }\n",
       "\n",
       "    .dataframe thead th {\n",
       "        text-align: right;\n",
       "    }\n",
       "</style>\n",
       "<table border=\"1\" class=\"dataframe\">\n",
       "  <thead>\n",
       "    <tr style=\"text-align: right;\">\n",
       "      <th></th>\n",
       "      <th>item_gender</th>\n",
       "      <th>item_category</th>\n",
       "      <th>item_name</th>\n",
       "      <th>item_price</th>\n",
       "      <th>item_colors</th>\n",
       "    </tr>\n",
       "  </thead>\n",
       "  <tbody>\n",
       "    <tr>\n",
       "      <th>0</th>\n",
       "      <td>womens</td>\n",
       "      <td>jackets</td>\n",
       "      <td>W's Better Sweater® 1/4-Zip</td>\n",
       "      <td>99</td>\n",
       "      <td>9</td>\n",
       "    </tr>\n",
       "    <tr>\n",
       "      <th>1</th>\n",
       "      <td>womens</td>\n",
       "      <td>jackets</td>\n",
       "      <td>W's Los Gatos 1/4-Zip</td>\n",
       "      <td>99</td>\n",
       "      <td>6</td>\n",
       "    </tr>\n",
       "    <tr>\n",
       "      <th>2</th>\n",
       "      <td>womens</td>\n",
       "      <td>jackets</td>\n",
       "      <td>W's Re-Tool Snap-T® Pullover</td>\n",
       "      <td>119</td>\n",
       "      <td>8</td>\n",
       "    </tr>\n",
       "    <tr>\n",
       "      <th>3</th>\n",
       "      <td>womens</td>\n",
       "      <td>jackets</td>\n",
       "      <td>W's Better Sweater® Jacket</td>\n",
       "      <td>139</td>\n",
       "      <td>10</td>\n",
       "    </tr>\n",
       "    <tr>\n",
       "      <th>4</th>\n",
       "      <td>womens</td>\n",
       "      <td>jackets</td>\n",
       "      <td>W's Nano Puff® Jacket</td>\n",
       "      <td>199</td>\n",
       "      <td>8</td>\n",
       "    </tr>\n",
       "    <tr>\n",
       "      <th>...</th>\n",
       "      <td>...</td>\n",
       "      <td>...</td>\n",
       "      <td>...</td>\n",
       "      <td>...</td>\n",
       "      <td>...</td>\n",
       "    </tr>\n",
       "    <tr>\n",
       "      <th>83</th>\n",
       "      <td>womens</td>\n",
       "      <td>jackets</td>\n",
       "      <td>W's Jackson Glacier Jacket</td>\n",
       "      <td>349</td>\n",
       "      <td>2</td>\n",
       "    </tr>\n",
       "    <tr>\n",
       "      <th>84</th>\n",
       "      <td>womens</td>\n",
       "      <td>jackets</td>\n",
       "      <td>W's Stand Up™ Jacket</td>\n",
       "      <td>129</td>\n",
       "      <td>2</td>\n",
       "    </tr>\n",
       "    <tr>\n",
       "      <th>85</th>\n",
       "      <td>womens</td>\n",
       "      <td>jackets</td>\n",
       "      <td>W's Ascensionist Jacket</td>\n",
       "      <td>499</td>\n",
       "      <td>3</td>\n",
       "    </tr>\n",
       "    <tr>\n",
       "      <th>86</th>\n",
       "      <td>womens</td>\n",
       "      <td>jackets</td>\n",
       "      <td>W's Tough Puff Hoody</td>\n",
       "      <td>249</td>\n",
       "      <td>2</td>\n",
       "    </tr>\n",
       "    <tr>\n",
       "      <th>87</th>\n",
       "      <td>womens</td>\n",
       "      <td>jackets</td>\n",
       "      <td>W's Galvanized Jacket</td>\n",
       "      <td>349</td>\n",
       "      <td>3</td>\n",
       "    </tr>\n",
       "  </tbody>\n",
       "</table>\n",
       "<p>88 rows × 5 columns</p>\n",
       "</div>"
      ],
      "text/plain": [
       "   item_gender item_category                     item_name  item_price  \\\n",
       "0       womens       jackets   W's Better Sweater® 1/4-Zip          99   \n",
       "1       womens       jackets         W's Los Gatos 1/4-Zip          99   \n",
       "2       womens       jackets  W's Re-Tool Snap-T® Pullover         119   \n",
       "3       womens       jackets    W's Better Sweater® Jacket         139   \n",
       "4       womens       jackets         W's Nano Puff® Jacket         199   \n",
       "..         ...           ...                           ...         ...   \n",
       "83      womens       jackets    W's Jackson Glacier Jacket         349   \n",
       "84      womens       jackets          W's Stand Up™ Jacket         129   \n",
       "85      womens       jackets       W's Ascensionist Jacket         499   \n",
       "86      womens       jackets          W's Tough Puff Hoody         249   \n",
       "87      womens       jackets         W's Galvanized Jacket         349   \n",
       "\n",
       "    item_colors  \n",
       "0             9  \n",
       "1             6  \n",
       "2             8  \n",
       "3            10  \n",
       "4             8  \n",
       "..          ...  \n",
       "83            2  \n",
       "84            2  \n",
       "85            3  \n",
       "86            2  \n",
       "87            3  \n",
       "\n",
       "[88 rows x 5 columns]"
      ]
     },
     "execution_count": 31,
     "metadata": {},
     "output_type": "execute_result"
    }
   ],
   "source": [
    "df ## and that's all of our data scraped!"
   ]
  },
  {
   "cell_type": "markdown",
   "metadata": {},
   "source": [
    "## Putting it all together!\n",
    "\n",
    "Excellent! We have successfully scraped all of the product information that we wanted from this one section of the website and turned it into structured data. \n",
    "\n",
    "But, we're not done! Now that we've done this once, we want to be able to do it for ALL of the clothing (both mens and womens) in every clothing category! A new challenge, but now that we are well versed in tags and basic data scraping, I think we will be able to figure out a (somewhat elegant) way to do this. \n",
    "\n",
    "What we need to consider is: \n",
    "\n",
    "a) getting clothing information from both the womens and mens sections\n",
    "\n",
    "b) associating each clothing item with the category that it is listed under\n",
    "\n",
    "On the homepage of the Patagonia website, we can see that there are links to all of the womens and mens clothing categories. When we click on one of these categories, we can see that the URL simply adds a suffix to the main Patagonia URL (e.g. '/shop/womens/fleece'), so we can navigate within python to each clothing category via the links contained in the Patagonia homepage. On top of that, the URL itself contains information on the clothing category that we have navigated to (e.g. 'fleece'), information that we can save to our dataframe to automatically categorize each clothing item that we scrape. \n",
    "\n",
    "So, to get each clothing category's link, we can search within the html of the Patagonia homepage. Before we can do that, we need to go through our steps of designating the url, \"reading\" the url, and parsing the html for the Patagonia homepage. "
   ]
  },
  {
   "cell_type": "code",
   "execution_count": 32,
   "metadata": {},
   "outputs": [],
   "source": [
    "url = 'https://www.patagonia.com/home/'\n",
    "page = urllib.request.urlopen(url)\n",
    "soup = BeautifulSoup(page, 'html.parser')"
   ]
  },
  {
   "cell_type": "markdown",
   "metadata": {},
   "source": [
    "If we inspect the html, either in Python or using the inspect window in our browser, we'll notice that each clothing category link is contained within an `<a>` tag with the attributes `class=\"demi\"` (`<a>` tags are used to designate hyperlinks within html, so if you're looking for a link, look for an `<a>` tag!). Let's search our 'soup' for all the `<a>` tags"
   ]
  },
  {
   "cell_type": "code",
   "execution_count": 33,
   "metadata": {},
   "outputs": [],
   "source": [
    "results = soup.find_all('a', attrs = {'class':'demi'})"
   ]
  },
  {
   "cell_type": "markdown",
   "metadata": {},
   "source": [
    "In our results, we want all of the links that will lead us to the womens and mens clothing sections, we don't care about the ones that will take us to camping gear or kids products. However, the womens and mens sections have very similar categories, and we want to distinguish each product as being categorized as womens or mens, so to maintain that information we can pull out all the links within our `results` that contain the phrase \"womens\" or \"mens\" and these will a) only give us links for the womens and mens sections, and b) maintain the information about whether or not a catgory is associated with womens or mens products\n",
    "\n",
    "Within each `<a>` tag in our results, there is the class `href` which contains the link itself, so we can use the function `get('href')` to extract this info and search for the \"womens\" and \"mens\" strings within the link "
   ]
  },
  {
   "cell_type": "code",
   "execution_count": 34,
   "metadata": {},
   "outputs": [],
   "source": [
    "def get_refs(gender, results):\n",
    "    \"\"\"returns the href strings for each clothing category in the mens or womens categories\"\"\"\n",
    "    hrefs = []\n",
    "    for result in results:\n",
    "        if '/'+gender in result.get('href'):\n",
    "            hrefs.append(result.get('href'))\n",
    "    return hrefs"
   ]
  },
  {
   "cell_type": "code",
   "execution_count": 35,
   "metadata": {},
   "outputs": [],
   "source": [
    "w_hrefs = get_refs('womens', results)"
   ]
  },
  {
   "cell_type": "code",
   "execution_count": 36,
   "metadata": {},
   "outputs": [],
   "source": [
    "m_hrefs = get_refs('mens', results)"
   ]
  },
  {
   "cell_type": "code",
   "execution_count": 37,
   "metadata": {},
   "outputs": [
    {
     "data": {
      "text/plain": [
       "['/shop/womens-new-arrivals',\n",
       " '/shop/womens-jackets-vests',\n",
       " '/shop/womens-fleece',\n",
       " '/shop/womens-sweatshirts-hoodies',\n",
       " '/shop/womens-sweaters',\n",
       " '/shop/womens-shirts',\n",
       " '/shop/womens-t-shirts',\n",
       " '/shop/womens-pants',\n",
       " '/shop/womens-shorts',\n",
       " '/shop/womens-dresses-skirts',\n",
       " '/shop/womens-jumpsuits-overalls',\n",
       " '/shop/womens-swimwear',\n",
       " '/shop/womens-wetsuits',\n",
       " '/shop/womens-waders',\n",
       " '/shop/womens-baselayers',\n",
       " '/shop/womens-bras-underwear',\n",
       " '/shop/womens-socks',\n",
       " '/shop/womens-accessories',\n",
       " '/shop/womens-workwear-clothing',\n",
       " '/shop/womens-worn-wear']"
      ]
     },
     "execution_count": 37,
     "metadata": {},
     "output_type": "execute_result"
    }
   ],
   "source": [
    "w_hrefs"
   ]
  },
  {
   "cell_type": "code",
   "execution_count": 38,
   "metadata": {},
   "outputs": [
    {
     "data": {
      "text/plain": [
       "['/shop/mens-new-arrivals',\n",
       " '/shop/mens-jackets-vests',\n",
       " '/shop/mens-fleece',\n",
       " '/shop/mens-sweatshirts-hoodies',\n",
       " '/shop/mens-sweaters',\n",
       " '/shop/mens-shirts',\n",
       " '/shop/mens-t-shirts',\n",
       " '/shop/mens-pants',\n",
       " '/shop/mens-shorts',\n",
       " '/shop/mens-board-swim-shorts',\n",
       " '/shop/mens-wetsuits',\n",
       " '/shop/mens-waders',\n",
       " '/shop/mens-baselayers',\n",
       " '/shop/mens-underwear',\n",
       " '/shop/mens-socks',\n",
       " '/shop/mens-accessories',\n",
       " '/shop/mens-workwear-clothing',\n",
       " '/shop/mens-worn-wear']"
      ]
     },
     "execution_count": 38,
     "metadata": {},
     "output_type": "execute_result"
    }
   ],
   "source": [
    "m_hrefs"
   ]
  },
  {
   "cell_type": "markdown",
   "metadata": {},
   "source": [
    "There's a couple of categories in both the womens and mens clothing that we are not explicitly interseted in - those are the \"new arrivals\" and \"worn gear\""
   ]
  },
  {
   "cell_type": "code",
   "execution_count": 39,
   "metadata": {},
   "outputs": [],
   "source": [
    "w_hrefs = w_hrefs[1:19]\n",
    "m_hrefs = m_hrefs[1:17]"
   ]
  },
  {
   "cell_type": "markdown",
   "metadata": {},
   "source": [
    "### Creating a function\n",
    "\n",
    "We now have all of our URL \"suffixes\" which we can affix to the main Patagonia URL to link to each clothing category. Then we can do what we did above but for each of the hrefs in our list of mens and womens hrefs. Also, since we are doing both the womens and mens sections and we have two separate lists of hrefs, we'll have to do this twice. Better than copying and pasting all the code twice, we can write a function that will take the 'gender' as an argument and the list of 'href's as an argument and that way we can do this in a streamlined way for both men and women. \n",
    "\n",
    "To define the function, we can just wrap up everything that we did above inside of a function and replace anywhere that we specified \"mens\" or \"womens\" with a generic \"gender\" argument, and anywhere that we would specify w_hrefs or m_hrefs with a generic \"hrefs\" argument.\n",
    "\n",
    "We'll call this function `patagoniaScrape` -- note the comments regarding adding the item category information"
   ]
  },
  {
   "cell_type": "code",
   "execution_count": 40,
   "metadata": {},
   "outputs": [],
   "source": [
    "def patagoniaScrape(gender, hrefs): ## gender argument is a string, hrefs is a list of href URL suffixes\n",
    "    \n",
    "    \"\"\"returns product item name, category, price, and number of color options from the Patagonia website\"\"\"\n",
    "\n",
    "    ## load the main url and add the href suffix - then perform all the functions below for each href in the list\n",
    "    item_data = []\n",
    "    for href in hrefs:\n",
    "        url = 'https://www.patagonia.com'\n",
    "        w_url = url+href\n",
    "        page = urllib.request.urlopen(w_url)\n",
    "        soup = BeautifulSoup(page, 'html.parser')\n",
    "    \n",
    "## find the products on the main page -- they are under class =\"container search results\"\n",
    "        products = soup.find('div', attrs = {'class':'container search-results'})\n",
    "\n",
    "## then each product is under the class product within the search results class tag\n",
    "        products = products.find_all('div', attrs = {'class':'product'}) \n",
    "    \n",
    "## find the \"load more\" products\n",
    "        buttons = soup.find_all('button', attrs = {'class': 'btn btn-lg btn-dark'})\n",
    "    \n",
    "## some pages don't have 'load more' buttons because all products appear on first page, so we build an if statement\n",
    "## to initiate the \"load more\" click if that section does indeed have the specified load more button\n",
    "        if len(buttons) > 0:\n",
    "            url_2 = buttons[0].get('data-url')\n",
    "            page_2 = urllib.request.urlopen(url_2)\n",
    "            soup_2 = BeautifulSoup(page_2, 'html.parser')\n",
    "            products_2 = soup_2.find_all('div', attrs = {'class':'product'})\n",
    "    \n",
    "    ## add the \"load more\" products to the main page products\n",
    "            products = products + products_2\n",
    "    \n",
    "## scrape the item names for each product in the category\n",
    "        item_names = []\n",
    "        for product in products:\n",
    "            item_names.append(product.find('h4', attrs = {'class':'product-tile__name'}).string)\n",
    "    \n",
    "## define a pandas dataframe using the item names\n",
    "        df = pd.DataFrame(item_names, columns = ['item_name'])\n",
    "    \n",
    "## scrape the item price\n",
    "        prices = []\n",
    "        for product in products:\n",
    "            prices.append(product.find('span', attrs = {'class':'value'}).get('content'))\n",
    "    \n",
    "## add to the dataframe\n",
    "        df['item_price'] = pd.to_numeric(prices) ## make sure the prices are numeric not strings\n",
    "    \n",
    "## scrape the number of colors per item\n",
    "## first need to define a counting function\n",
    "        def countProductColors(product):\n",
    "            temp = product.find_all('li')\n",
    "            num_col = len(temp)\n",
    "            return num_col\n",
    "\n",
    "## now can scrape the number of colors per item using the counting function\n",
    "        item_colors = []\n",
    "        for product in products:\n",
    "            item_colors.append(countProductColors(product))\n",
    "    \n",
    "## add to the dataframe\n",
    "        df['item_colors'] = item_colors\n",
    "\n",
    "## this is new (we didn't do it in the \"women's jackets\" example above)\n",
    "## because we are cycling through each href to get the product information and adding it all\n",
    "## to the same dataframe, we'll want the item category information to be added to the dataframe as well so we can\n",
    "## distinguish among categories. To do this, we take the string information contained within the 'href'\n",
    "## (e.g. womens-fleece) and split it at the '-' (e.g. []'womens', 'fleece']) and retain the second element \n",
    "## (e.g. 'fleece') and add that as the item category information\n",
    "\n",
    "## get the item category\n",
    "## split the href to get the category then second split removes the 'womens' or 'mens' info\n",
    "        item_category = href.split('/')[2].split('-')[1]\n",
    "\n",
    "## insert the item gender information to the dataframe\n",
    "        df.insert(0, 'item_gender', gender)\n",
    "\n",
    "        df.insert(1, 'item_category', item_category)\n",
    "    \n",
    "        item_data.append(df)\n",
    "    \n",
    "    item_data = pd.concat(item_data)\n",
    "    return(item_data)"
   ]
  },
  {
   "cell_type": "code",
   "execution_count": 41,
   "metadata": {},
   "outputs": [],
   "source": [
    "w_data = patagoniaScrape('womens', w_hrefs)"
   ]
  },
  {
   "cell_type": "code",
   "execution_count": 42,
   "metadata": {},
   "outputs": [
    {
     "data": {
      "text/html": [
       "<div>\n",
       "<style scoped>\n",
       "    .dataframe tbody tr th:only-of-type {\n",
       "        vertical-align: middle;\n",
       "    }\n",
       "\n",
       "    .dataframe tbody tr th {\n",
       "        vertical-align: top;\n",
       "    }\n",
       "\n",
       "    .dataframe thead th {\n",
       "        text-align: right;\n",
       "    }\n",
       "</style>\n",
       "<table border=\"1\" class=\"dataframe\">\n",
       "  <thead>\n",
       "    <tr style=\"text-align: right;\">\n",
       "      <th></th>\n",
       "      <th>item_gender</th>\n",
       "      <th>item_category</th>\n",
       "      <th>item_name</th>\n",
       "      <th>item_price</th>\n",
       "      <th>item_colors</th>\n",
       "    </tr>\n",
       "  </thead>\n",
       "  <tbody>\n",
       "    <tr>\n",
       "      <th>0</th>\n",
       "      <td>womens</td>\n",
       "      <td>jackets</td>\n",
       "      <td>W's Better Sweater® 1/4-Zip</td>\n",
       "      <td>99.0</td>\n",
       "      <td>9</td>\n",
       "    </tr>\n",
       "    <tr>\n",
       "      <th>1</th>\n",
       "      <td>womens</td>\n",
       "      <td>jackets</td>\n",
       "      <td>W's Los Gatos 1/4-Zip</td>\n",
       "      <td>99.0</td>\n",
       "      <td>6</td>\n",
       "    </tr>\n",
       "    <tr>\n",
       "      <th>2</th>\n",
       "      <td>womens</td>\n",
       "      <td>jackets</td>\n",
       "      <td>W's Re-Tool Snap-T® Pullover</td>\n",
       "      <td>119.0</td>\n",
       "      <td>8</td>\n",
       "    </tr>\n",
       "    <tr>\n",
       "      <th>3</th>\n",
       "      <td>womens</td>\n",
       "      <td>jackets</td>\n",
       "      <td>W's Better Sweater® Jacket</td>\n",
       "      <td>139.0</td>\n",
       "      <td>10</td>\n",
       "    </tr>\n",
       "    <tr>\n",
       "      <th>4</th>\n",
       "      <td>womens</td>\n",
       "      <td>jackets</td>\n",
       "      <td>W's Nano Puff® Jacket</td>\n",
       "      <td>199.0</td>\n",
       "      <td>8</td>\n",
       "    </tr>\n",
       "    <tr>\n",
       "      <th>...</th>\n",
       "      <td>...</td>\n",
       "      <td>...</td>\n",
       "      <td>...</td>\n",
       "      <td>...</td>\n",
       "      <td>...</td>\n",
       "    </tr>\n",
       "    <tr>\n",
       "      <th>13</th>\n",
       "      <td>womens</td>\n",
       "      <td>workwear</td>\n",
       "      <td>Fisherman's Rolled Beanie</td>\n",
       "      <td>35.0</td>\n",
       "      <td>3</td>\n",
       "    </tr>\n",
       "    <tr>\n",
       "      <th>14</th>\n",
       "      <td>womens</td>\n",
       "      <td>workwear</td>\n",
       "      <td>Tin Shed Hat</td>\n",
       "      <td>39.0</td>\n",
       "      <td>4</td>\n",
       "    </tr>\n",
       "    <tr>\n",
       "      <th>15</th>\n",
       "      <td>womens</td>\n",
       "      <td>workwear</td>\n",
       "      <td>Hose-Down Slicker Bib Overalls</td>\n",
       "      <td>119.0</td>\n",
       "      <td>2</td>\n",
       "    </tr>\n",
       "    <tr>\n",
       "      <th>16</th>\n",
       "      <td>womens</td>\n",
       "      <td>workwear</td>\n",
       "      <td>Hose-Down Slicker Jacket</td>\n",
       "      <td>179.0</td>\n",
       "      <td>2</td>\n",
       "    </tr>\n",
       "    <tr>\n",
       "      <th>17</th>\n",
       "      <td>womens</td>\n",
       "      <td>workwear</td>\n",
       "      <td>Insulated Tin Shed Cap</td>\n",
       "      <td>49.0</td>\n",
       "      <td>2</td>\n",
       "    </tr>\n",
       "  </tbody>\n",
       "</table>\n",
       "<p>557 rows × 5 columns</p>\n",
       "</div>"
      ],
      "text/plain": [
       "   item_gender item_category                       item_name  item_price  \\\n",
       "0       womens       jackets     W's Better Sweater® 1/4-Zip        99.0   \n",
       "1       womens       jackets           W's Los Gatos 1/4-Zip        99.0   \n",
       "2       womens       jackets    W's Re-Tool Snap-T® Pullover       119.0   \n",
       "3       womens       jackets      W's Better Sweater® Jacket       139.0   \n",
       "4       womens       jackets           W's Nano Puff® Jacket       199.0   \n",
       "..         ...           ...                             ...         ...   \n",
       "13      womens      workwear       Fisherman's Rolled Beanie        35.0   \n",
       "14      womens      workwear                    Tin Shed Hat        39.0   \n",
       "15      womens      workwear  Hose-Down Slicker Bib Overalls       119.0   \n",
       "16      womens      workwear        Hose-Down Slicker Jacket       179.0   \n",
       "17      womens      workwear          Insulated Tin Shed Cap        49.0   \n",
       "\n",
       "    item_colors  \n",
       "0             9  \n",
       "1             6  \n",
       "2             8  \n",
       "3            10  \n",
       "4             8  \n",
       "..          ...  \n",
       "13            3  \n",
       "14            4  \n",
       "15            2  \n",
       "16            2  \n",
       "17            2  \n",
       "\n",
       "[557 rows x 5 columns]"
      ]
     },
     "execution_count": 42,
     "metadata": {},
     "output_type": "execute_result"
    }
   ],
   "source": [
    "w_data ## looks good!"
   ]
  },
  {
   "cell_type": "code",
   "execution_count": 43,
   "metadata": {},
   "outputs": [],
   "source": [
    "m_data = patagoniaScrape('mens', m_hrefs)"
   ]
  },
  {
   "cell_type": "code",
   "execution_count": 44,
   "metadata": {},
   "outputs": [
    {
     "data": {
      "text/html": [
       "<div>\n",
       "<style scoped>\n",
       "    .dataframe tbody tr th:only-of-type {\n",
       "        vertical-align: middle;\n",
       "    }\n",
       "\n",
       "    .dataframe tbody tr th {\n",
       "        vertical-align: top;\n",
       "    }\n",
       "\n",
       "    .dataframe thead th {\n",
       "        text-align: right;\n",
       "    }\n",
       "</style>\n",
       "<table border=\"1\" class=\"dataframe\">\n",
       "  <thead>\n",
       "    <tr style=\"text-align: right;\">\n",
       "      <th></th>\n",
       "      <th>item_gender</th>\n",
       "      <th>item_category</th>\n",
       "      <th>item_name</th>\n",
       "      <th>item_price</th>\n",
       "      <th>item_colors</th>\n",
       "    </tr>\n",
       "  </thead>\n",
       "  <tbody>\n",
       "    <tr>\n",
       "      <th>0</th>\n",
       "      <td>mens</td>\n",
       "      <td>jackets</td>\n",
       "      <td>M's Better Sweater® 1/4 Zip</td>\n",
       "      <td>99.0</td>\n",
       "      <td>12</td>\n",
       "    </tr>\n",
       "    <tr>\n",
       "      <th>1</th>\n",
       "      <td>mens</td>\n",
       "      <td>jackets</td>\n",
       "      <td>M's Torrentshell 3L Jacket</td>\n",
       "      <td>149.0</td>\n",
       "      <td>10</td>\n",
       "    </tr>\n",
       "    <tr>\n",
       "      <th>2</th>\n",
       "      <td>mens</td>\n",
       "      <td>jackets</td>\n",
       "      <td>M's Down Sweater</td>\n",
       "      <td>229.0</td>\n",
       "      <td>7</td>\n",
       "    </tr>\n",
       "    <tr>\n",
       "      <th>3</th>\n",
       "      <td>mens</td>\n",
       "      <td>jackets</td>\n",
       "      <td>M's Nano Puff® Vest</td>\n",
       "      <td>149.0</td>\n",
       "      <td>6</td>\n",
       "    </tr>\n",
       "    <tr>\n",
       "      <th>4</th>\n",
       "      <td>mens</td>\n",
       "      <td>jackets</td>\n",
       "      <td>M's Better Sweater® Jacket</td>\n",
       "      <td>139.0</td>\n",
       "      <td>13</td>\n",
       "    </tr>\n",
       "    <tr>\n",
       "      <th>...</th>\n",
       "      <td>...</td>\n",
       "      <td>...</td>\n",
       "      <td>...</td>\n",
       "      <td>...</td>\n",
       "      <td>...</td>\n",
       "    </tr>\n",
       "    <tr>\n",
       "      <th>31</th>\n",
       "      <td>mens</td>\n",
       "      <td>workwear</td>\n",
       "      <td>M's Long-Sleeved Shop Shirt</td>\n",
       "      <td>85.0</td>\n",
       "      <td>2</td>\n",
       "    </tr>\n",
       "    <tr>\n",
       "      <th>32</th>\n",
       "      <td>mens</td>\n",
       "      <td>workwear</td>\n",
       "      <td>M's Fog Cutter Sweater</td>\n",
       "      <td>99.0</td>\n",
       "      <td>3</td>\n",
       "    </tr>\n",
       "    <tr>\n",
       "      <th>33</th>\n",
       "      <td>mens</td>\n",
       "      <td>workwear</td>\n",
       "      <td>M's Iron Forge Hemp® Canvas Insulated Overalls</td>\n",
       "      <td>199.0</td>\n",
       "      <td>1</td>\n",
       "    </tr>\n",
       "    <tr>\n",
       "      <th>34</th>\n",
       "      <td>mens</td>\n",
       "      <td>workwear</td>\n",
       "      <td>M's Long-Sleeved Western Snap Shirt</td>\n",
       "      <td>79.0</td>\n",
       "      <td>4</td>\n",
       "    </tr>\n",
       "    <tr>\n",
       "      <th>35</th>\n",
       "      <td>mens</td>\n",
       "      <td>workwear</td>\n",
       "      <td>Insulated Tin Shed Cap</td>\n",
       "      <td>49.0</td>\n",
       "      <td>2</td>\n",
       "    </tr>\n",
       "  </tbody>\n",
       "</table>\n",
       "<p>597 rows × 5 columns</p>\n",
       "</div>"
      ],
      "text/plain": [
       "   item_gender item_category                                       item_name  \\\n",
       "0         mens       jackets                     M's Better Sweater® 1/4 Zip   \n",
       "1         mens       jackets                      M's Torrentshell 3L Jacket   \n",
       "2         mens       jackets                                M's Down Sweater   \n",
       "3         mens       jackets                             M's Nano Puff® Vest   \n",
       "4         mens       jackets                      M's Better Sweater® Jacket   \n",
       "..         ...           ...                                             ...   \n",
       "31        mens      workwear                     M's Long-Sleeved Shop Shirt   \n",
       "32        mens      workwear                          M's Fog Cutter Sweater   \n",
       "33        mens      workwear  M's Iron Forge Hemp® Canvas Insulated Overalls   \n",
       "34        mens      workwear             M's Long-Sleeved Western Snap Shirt   \n",
       "35        mens      workwear                          Insulated Tin Shed Cap   \n",
       "\n",
       "    item_price  item_colors  \n",
       "0         99.0           12  \n",
       "1        149.0           10  \n",
       "2        229.0            7  \n",
       "3        149.0            6  \n",
       "4        139.0           13  \n",
       "..         ...          ...  \n",
       "31        85.0            2  \n",
       "32        99.0            3  \n",
       "33       199.0            1  \n",
       "34        79.0            4  \n",
       "35        49.0            2  \n",
       "\n",
       "[597 rows x 5 columns]"
      ]
     },
     "execution_count": 44,
     "metadata": {},
     "output_type": "execute_result"
    }
   ],
   "source": [
    "m_data ## looks good too!"
   ]
  },
  {
   "cell_type": "markdown",
   "metadata": {},
   "source": [
    "## Data Cleaning\n",
    "\n",
    "One important note is that the product categorizations on the Patagonia website are not mutually exclusive (e.g. a fleece could be categorized as both a \"jacket\" and a \"sweater\"), therefore by scraping each product based on its category, we now have duplicated items in the dataset. We'll keep only one entry of the duplicated items.\n",
    "\n",
    "In addition, some products are unisex and are listed in both categories (e.g. baseball hats for example) so we will remove those. \n",
    "\n",
    "Both of those things will be easy enough, but first we must check for any other weirdness or errors in our other columns like missing values, strangely high values or incorrect datatypes (i.e. a string where there should be a numeric)"
   ]
  },
  {
   "cell_type": "code",
   "execution_count": 45,
   "metadata": {},
   "outputs": [
    {
     "data": {
      "text/plain": [
       "(597, 5)"
      ]
     },
     "execution_count": 45,
     "metadata": {},
     "output_type": "execute_result"
    }
   ],
   "source": [
    "m_data.shape"
   ]
  },
  {
   "cell_type": "code",
   "execution_count": 46,
   "metadata": {},
   "outputs": [
    {
     "data": {
      "text/plain": [
       "(557, 5)"
      ]
     },
     "execution_count": 46,
     "metadata": {},
     "output_type": "execute_result"
    }
   ],
   "source": [
    "w_data.shape"
   ]
  },
  {
   "cell_type": "code",
   "execution_count": 47,
   "metadata": {},
   "outputs": [],
   "source": [
    "item_data = pd.concat([w_data, m_data], axis = 0) ## concatenate the two datasets so we can check them both at once \n",
    "## (their separation will come in handy later on)"
   ]
  },
  {
   "cell_type": "code",
   "execution_count": 48,
   "metadata": {},
   "outputs": [
    {
     "data": {
      "text/plain": [
       "0"
      ]
     },
     "execution_count": 48,
     "metadata": {},
     "output_type": "execute_result"
    }
   ],
   "source": [
    "sum(item_data['item_category'].isnull())"
   ]
  },
  {
   "cell_type": "code",
   "execution_count": 49,
   "metadata": {},
   "outputs": [
    {
     "data": {
      "text/plain": [
       "0"
      ]
     },
     "execution_count": 49,
     "metadata": {},
     "output_type": "execute_result"
    }
   ],
   "source": [
    "sum(item_data['item_name'].isnull())"
   ]
  },
  {
   "cell_type": "code",
   "execution_count": 50,
   "metadata": {},
   "outputs": [
    {
     "data": {
      "text/plain": [
       "0"
      ]
     },
     "execution_count": 50,
     "metadata": {},
     "output_type": "execute_result"
    }
   ],
   "source": [
    "sum(item_data['item_price'].isnull())"
   ]
  },
  {
   "cell_type": "code",
   "execution_count": 51,
   "metadata": {},
   "outputs": [
    {
     "data": {
      "text/plain": [
       "0"
      ]
     },
     "execution_count": 51,
     "metadata": {},
     "output_type": "execute_result"
    }
   ],
   "source": [
    "sum(item_data['item_price'].isnull())"
   ]
  },
  {
   "cell_type": "markdown",
   "metadata": {},
   "source": [
    "Check for data types"
   ]
  },
  {
   "cell_type": "code",
   "execution_count": 52,
   "metadata": {},
   "outputs": [
    {
     "data": {
      "text/plain": [
       "{'item_gender': 'object',\n",
       " 'item_category': 'object',\n",
       " 'item_name': 'object',\n",
       " 'item_price': 'float64',\n",
       " 'item_colors': 'int64'}"
      ]
     },
     "execution_count": 52,
     "metadata": {},
     "output_type": "execute_result"
    }
   ],
   "source": [
    "item_data.dtypes.astype(str).to_dict()"
   ]
  },
  {
   "cell_type": "markdown",
   "metadata": {},
   "source": [
    "And if we have any weird values like values that are abnormally high or low or negative, the easiest way to check that is through data visualizations that we will do later on. "
   ]
  },
  {
   "cell_type": "markdown",
   "metadata": {},
   "source": [
    "Cool so that all looks good, let's now remove the items that are listed in both the mens and womens sections (i.e. the \"unisex\" items)\n",
    "\n",
    "To do that, we'll create a \"clipping mask\" for our mens and womens dataframes where we remove the items that are present in both the mens and womens datasets. \n",
    "To create the mask we will using the function`isin` to identify which of the item names in womens items are also in the mens items. This function returns a Boolean string with \"True\" values if the values are in both. To select the values from the dataframe that ARENT in both mens and womens then, we will have to invert that Boolean string, so that the unique items are \"True\" in the mask and the the items in both the mens and womens categories are \"False\". To reverse the Boolean string we will use the `numpy` function `logical_not`"
   ]
  },
  {
   "cell_type": "code",
   "execution_count": 53,
   "metadata": {},
   "outputs": [],
   "source": [
    "import numpy as np"
   ]
  },
  {
   "cell_type": "code",
   "execution_count": 54,
   "metadata": {},
   "outputs": [],
   "source": [
    "## item names that are in both the mens and womens categories\n",
    "inboth = w_data['item_name'].loc[w_data['item_name'].isin(m_data['item_name'])]"
   ]
  },
  {
   "cell_type": "code",
   "execution_count": 55,
   "metadata": {},
   "outputs": [],
   "source": [
    "## .logical_not inverts the boolean to turn the \"is in\" to \"is not in\" essentially\n",
    "mask = np.logical_not(w_data['item_name'].isin(inboth))"
   ]
  },
  {
   "cell_type": "code",
   "execution_count": 56,
   "metadata": {},
   "outputs": [],
   "source": [
    "w_data = w_data[mask]"
   ]
  },
  {
   "cell_type": "code",
   "execution_count": 57,
   "metadata": {},
   "outputs": [],
   "source": [
    "mask = np.logical_not(m_data['item_name'].isin(inboth))"
   ]
  },
  {
   "cell_type": "code",
   "execution_count": 58,
   "metadata": {},
   "outputs": [],
   "source": [
    "m_data = m_data[mask]"
   ]
  },
  {
   "cell_type": "code",
   "execution_count": 59,
   "metadata": {},
   "outputs": [],
   "source": [
    "item_data = pd.concat([w_data, m_data], axis = 0)"
   ]
  },
  {
   "cell_type": "markdown",
   "metadata": {},
   "source": [
    "Now we can move on to removing the duplicated item entries WITHIN the categories (e.g. a fleece listed as both a jacket and a sweater)\n",
    "\n",
    "We'll find the duplicated items using the `duplicated` function which will return a Boolean. We will then flip the Boolean again using `logical_not`. \n",
    "\n",
    "We are specifying in the `duplicated` function that we want to keep the first entry of any duplicated item. We could devise other ways to come up with which item to keep (like randomly pick which of the duplicated item entries to keep) or pick the last entry instead of the first, but for our purposes it doesn't much matter, so we can just pick the first."
   ]
  },
  {
   "cell_type": "code",
   "execution_count": 60,
   "metadata": {},
   "outputs": [
    {
     "data": {
      "text/plain": [
       "699"
      ]
     },
     "execution_count": 60,
     "metadata": {},
     "output_type": "execute_result"
    }
   ],
   "source": [
    "## how many unique products are there in the dataset?\n",
    "len(set(item_data['item_name']))\n",
    "## 699"
   ]
  },
  {
   "cell_type": "code",
   "execution_count": 61,
   "metadata": {},
   "outputs": [
    {
     "data": {
      "text/plain": [
       "(946, 5)"
      ]
     },
     "execution_count": 61,
     "metadata": {},
     "output_type": "execute_result"
    }
   ],
   "source": [
    "item_data.shape ## but there are 946 rows, so we we do have duplicated products indeed"
   ]
  },
  {
   "cell_type": "code",
   "execution_count": 62,
   "metadata": {},
   "outputs": [],
   "source": [
    "mask = item_data['item_name'].duplicated(keep = 'first')"
   ]
  },
  {
   "cell_type": "code",
   "execution_count": 63,
   "metadata": {},
   "outputs": [],
   "source": [
    "# mask = [not i for i in mask] another way to invert a boolean"
   ]
  },
  {
   "cell_type": "code",
   "execution_count": 64,
   "metadata": {},
   "outputs": [],
   "source": [
    "## because the above actually saves the values that we WANT as \"False\" \n",
    "## we want those to be \"True\" so we can index by them\n",
    "## so let's flip them\n",
    "mask = np.logical_not(mask)"
   ]
  },
  {
   "cell_type": "code",
   "execution_count": 65,
   "metadata": {},
   "outputs": [],
   "source": [
    "item_data = item_data[mask]"
   ]
  },
  {
   "cell_type": "code",
   "execution_count": 66,
   "metadata": {},
   "outputs": [
    {
     "data": {
      "text/plain": [
       "(699, 5)"
      ]
     },
     "execution_count": 66,
     "metadata": {},
     "output_type": "execute_result"
    }
   ],
   "source": [
    "## and check that it worked\n",
    "item_data.shape \n",
    "## yup now we only have as many rows as there are unique values"
   ]
  },
  {
   "cell_type": "markdown",
   "metadata": {},
   "source": [
    "### The final dataset!"
   ]
  },
  {
   "cell_type": "code",
   "execution_count": 67,
   "metadata": {},
   "outputs": [
    {
     "data": {
      "text/html": [
       "<div>\n",
       "<style scoped>\n",
       "    .dataframe tbody tr th:only-of-type {\n",
       "        vertical-align: middle;\n",
       "    }\n",
       "\n",
       "    .dataframe tbody tr th {\n",
       "        vertical-align: top;\n",
       "    }\n",
       "\n",
       "    .dataframe thead th {\n",
       "        text-align: right;\n",
       "    }\n",
       "</style>\n",
       "<table border=\"1\" class=\"dataframe\">\n",
       "  <thead>\n",
       "    <tr style=\"text-align: right;\">\n",
       "      <th></th>\n",
       "      <th>item_gender</th>\n",
       "      <th>item_category</th>\n",
       "      <th>item_name</th>\n",
       "      <th>item_price</th>\n",
       "      <th>item_colors</th>\n",
       "    </tr>\n",
       "  </thead>\n",
       "  <tbody>\n",
       "    <tr>\n",
       "      <th>0</th>\n",
       "      <td>womens</td>\n",
       "      <td>jackets</td>\n",
       "      <td>W's Better Sweater® 1/4-Zip</td>\n",
       "      <td>99.0</td>\n",
       "      <td>9</td>\n",
       "    </tr>\n",
       "    <tr>\n",
       "      <th>1</th>\n",
       "      <td>womens</td>\n",
       "      <td>jackets</td>\n",
       "      <td>W's Los Gatos 1/4-Zip</td>\n",
       "      <td>99.0</td>\n",
       "      <td>6</td>\n",
       "    </tr>\n",
       "    <tr>\n",
       "      <th>2</th>\n",
       "      <td>womens</td>\n",
       "      <td>jackets</td>\n",
       "      <td>W's Re-Tool Snap-T® Pullover</td>\n",
       "      <td>119.0</td>\n",
       "      <td>8</td>\n",
       "    </tr>\n",
       "    <tr>\n",
       "      <th>3</th>\n",
       "      <td>womens</td>\n",
       "      <td>jackets</td>\n",
       "      <td>W's Better Sweater® Jacket</td>\n",
       "      <td>139.0</td>\n",
       "      <td>10</td>\n",
       "    </tr>\n",
       "    <tr>\n",
       "      <th>4</th>\n",
       "      <td>womens</td>\n",
       "      <td>jackets</td>\n",
       "      <td>W's Nano Puff® Jacket</td>\n",
       "      <td>199.0</td>\n",
       "      <td>8</td>\n",
       "    </tr>\n",
       "    <tr>\n",
       "      <th>...</th>\n",
       "      <td>...</td>\n",
       "      <td>...</td>\n",
       "      <td>...</td>\n",
       "      <td>...</td>\n",
       "      <td>...</td>\n",
       "    </tr>\n",
       "    <tr>\n",
       "      <th>2</th>\n",
       "      <td>mens</td>\n",
       "      <td>underwear</td>\n",
       "      <td>M's Essential Boxer Briefs - 6\"</td>\n",
       "      <td>32.0</td>\n",
       "      <td>8</td>\n",
       "    </tr>\n",
       "    <tr>\n",
       "      <th>3</th>\n",
       "      <td>mens</td>\n",
       "      <td>underwear</td>\n",
       "      <td>M's Essential Boxer Briefs - 3\"</td>\n",
       "      <td>32.0</td>\n",
       "      <td>8</td>\n",
       "    </tr>\n",
       "    <tr>\n",
       "      <th>4</th>\n",
       "      <td>mens</td>\n",
       "      <td>underwear</td>\n",
       "      <td>M's Essential Boxers</td>\n",
       "      <td>32.0</td>\n",
       "      <td>8</td>\n",
       "    </tr>\n",
       "    <tr>\n",
       "      <th>5</th>\n",
       "      <td>mens</td>\n",
       "      <td>underwear</td>\n",
       "      <td>M's Essential A/C® Boxer Briefs - 6\"</td>\n",
       "      <td>34.0</td>\n",
       "      <td>3</td>\n",
       "    </tr>\n",
       "    <tr>\n",
       "      <th>6</th>\n",
       "      <td>mens</td>\n",
       "      <td>underwear</td>\n",
       "      <td>M's Hydro Cross Boxer Briefs - 7\"</td>\n",
       "      <td>34.0</td>\n",
       "      <td>3</td>\n",
       "    </tr>\n",
       "  </tbody>\n",
       "</table>\n",
       "<p>699 rows × 5 columns</p>\n",
       "</div>"
      ],
      "text/plain": [
       "   item_gender item_category                             item_name  \\\n",
       "0       womens       jackets           W's Better Sweater® 1/4-Zip   \n",
       "1       womens       jackets                 W's Los Gatos 1/4-Zip   \n",
       "2       womens       jackets          W's Re-Tool Snap-T® Pullover   \n",
       "3       womens       jackets            W's Better Sweater® Jacket   \n",
       "4       womens       jackets                 W's Nano Puff® Jacket   \n",
       "..         ...           ...                                   ...   \n",
       "2         mens     underwear       M's Essential Boxer Briefs - 6\"   \n",
       "3         mens     underwear       M's Essential Boxer Briefs - 3\"   \n",
       "4         mens     underwear                  M's Essential Boxers   \n",
       "5         mens     underwear  M's Essential A/C® Boxer Briefs - 6\"   \n",
       "6         mens     underwear     M's Hydro Cross Boxer Briefs - 7\"   \n",
       "\n",
       "    item_price  item_colors  \n",
       "0         99.0            9  \n",
       "1         99.0            6  \n",
       "2        119.0            8  \n",
       "3        139.0           10  \n",
       "4        199.0            8  \n",
       "..         ...          ...  \n",
       "2         32.0            8  \n",
       "3         32.0            8  \n",
       "4         32.0            8  \n",
       "5         34.0            3  \n",
       "6         34.0            3  \n",
       "\n",
       "[699 rows x 5 columns]"
      ]
     },
     "execution_count": 67,
     "metadata": {},
     "output_type": "execute_result"
    }
   ],
   "source": [
    "item_data ## and that's our dataset!"
   ]
  },
  {
   "cell_type": "markdown",
   "metadata": {},
   "source": [
    "Now that we have our dataset, we can look for differences in prices between womens and mens clothing categories"
   ]
  },
  {
   "cell_type": "markdown",
   "metadata": {},
   "source": [
    "## Visualizing the data\n",
    "\n",
    "We can use the `seaborn` and `matplotlib` modules to visualize our data. Remember we're interested in looking at whether there are differences in womens and mens clothing prices and color options. \n",
    "\n",
    "We can visualize this a couple different ways, and for demonstration purposes we'll plot multiple graphs. \n",
    "\n",
    "First, we can plot the distribution of item prices in the womens and mens categories using a density plot"
   ]
  },
  {
   "cell_type": "code",
   "execution_count": 68,
   "metadata": {},
   "outputs": [
    {
     "data": {
      "image/png": "[encoded data removed]",
      "text/plain": [
       "<Figure size 432x288 with 1 Axes>"
      ]
     },
     "metadata": {
      "needs_background": "light"
     },
     "output_type": "display_data"
    }
   ],
   "source": [
    "genders = ['womens', 'mens']\n",
    "for gender in genders:\n",
    "    subset = item_data[item_data['item_gender'] == gender]\n",
    "    with sns.color_palette(\"muted\"): ## changes the color palette\n",
    "        sns.distplot(subset['item_price'], \n",
    "                 hist = False, \n",
    "                 kde = True, \n",
    "                 kde_kws = {'linewidth':3, 'shade': True}, \n",
    "                 label = gender)"
   ]
  },
  {
   "cell_type": "markdown",
   "metadata": {},
   "source": [
    "They actually don't look too different! For both the men and womens clothing, it looks like most products are priced around 100 dollars, with a few items that are more expensive, with a greater proportion of the womens items being priced at around 100 dollars. We can also see that the data are a little right skewed - they don't follow a completely normal distribution and the tail goes out to the right to capture those higher priced items.\n",
    "\n",
    "Another way to visualize this is with a boxplot. "
   ]
  },
  {
   "cell_type": "code",
   "execution_count": 69,
   "metadata": {},
   "outputs": [
    {
     "data": {
      "image/png": "[encoded data removed]",
      "text/plain": [
       "<Figure size 432x288 with 1 Axes>"
      ]
     },
     "metadata": {
      "needs_background": "light"
     },
     "output_type": "display_data"
    }
   ],
   "source": [
    "with sns.color_palette(\"muted\"):\n",
    "    sns.boxplot(\n",
    "        x = 'item_gender', \n",
    "        y = 'item_price',\n",
    "        data = item_data)"
   ]
  },
  {
   "cell_type": "markdown",
   "metadata": {},
   "source": [
    "In the boxplot we can see that the median item price for womens and mens clothes is indeed around 100 dollars, with some items that are more expensive, and a greater number of more expensive items in the mens section (but not by much). Based on this boxplot too, we can again see that the data do not form a normal distribution, but are instead right skewed. \n",
    "\n",
    "What about the number of color options? "
   ]
  },
  {
   "cell_type": "code",
   "execution_count": 70,
   "metadata": {},
   "outputs": [
    {
     "data": {
      "image/png": "[encoded data removed]",
      "text/plain": [
       "<Figure size 432x288 with 1 Axes>"
      ]
     },
     "metadata": {
      "needs_background": "light"
     },
     "output_type": "display_data"
    }
   ],
   "source": [
    "genders = ['womens', 'mens'] ## to plot the men and womens prices separately\n",
    "for gender in genders:\n",
    "    subset = item_data[item_data['item_gender'] == gender]\n",
    "    with sns.color_palette(\"muted\"): ## changes the color\n",
    "        sns.distplot(subset['item_colors'], \n",
    "                     hist = False, \n",
    "                     kde = True, \n",
    "                     kde_kws = {'linewidth':3, 'shade': True}, \n",
    "                     label = gender)"
   ]
  },
  {
   "cell_type": "markdown",
   "metadata": {},
   "source": [
    "The number of color options available for mens and womens clothing looks about the same too! Items on average have around 3 color options, with a higher proportion of womens clothes having this many options, but several items in both the mens and womens sections have a high number of color options. As with the item prices, this means that the data are right skewed. \n",
    "\n",
    "Let's look at this using a boxplot as well"
   ]
  },
  {
   "cell_type": "code",
   "execution_count": 71,
   "metadata": {},
   "outputs": [
    {
     "data": {
      "image/png": "[encoded data removed]",
      "text/plain": [
       "<Figure size 432x288 with 1 Axes>"
      ]
     },
     "metadata": {
      "needs_background": "light"
     },
     "output_type": "display_data"
    }
   ],
   "source": [
    "with sns.color_palette(\"muted\"):\n",
    "    sns.boxplot(\n",
    "        x = 'item_gender', \n",
    "        y = 'item_colors',\n",
    "        data = item_data)"
   ]
  },
  {
   "cell_type": "markdown",
   "metadata": {},
   "source": [
    "We see here the median number of color options for womens and mens clothing is indeed around 3 colors, with a very similar number of color options between the gender categories. There are also a few more men's items that have a high number of color options. "
   ]
  },
  {
   "cell_type": "markdown",
   "metadata": {},
   "source": [
    "## A quick hypothesis test\n",
    "\n",
    "Thanks to our visualizations above, we can see that the womens and mens clothing prices and color options are about equal. It doesn't hurt to do a quick statistical test though, just to make sure our eyes aren't deceiving us!\n",
    "\n",
    "First let's get some numbers on the difference in the average price between mens and womens clothing (this can be thought of as a very basic measure of effect size) and get an idea of the parameters of the distribution for the mens and womens clothing prices (i.e. the mean and standard deviation)\n"
   ]
  },
  {
   "cell_type": "code",
   "execution_count": 72,
   "metadata": {},
   "outputs": [],
   "source": [
    "## we'll want to do this for prices and colors so we can write a little function\n",
    "\n",
    "def item_ef(category):\n",
    "    \"\"\"Prints mean, std, and effect size of the mens and womens item information\"\"\"\n",
    "    \n",
    "    w_info = item_data[category].loc[item_data['item_gender'] == 'womens']\n",
    "    m_info = item_data[category].loc[item_data['item_gender'] == 'mens']\n",
    "    \n",
    "    ## the .3f will round the answer to 3 decimal places\n",
    "    print('Womens Items: Mean=%.3f, Standard Deviation=%.3f' % (np.mean(w_info), np.std(w_info)))\n",
    "    print('Mens Items: Mean=%.3f, Standard Deviation=%.3f' % (np.mean(m_info), np.std(m_info)))\n",
    "    print('Difference in means=%.3f' % (np.mean(m_info) - np.mean(w_info)))"
   ]
  },
  {
   "cell_type": "code",
   "execution_count": 73,
   "metadata": {},
   "outputs": [
    {
     "name": "stdout",
     "output_type": "stream",
     "text": [
      "Womens Items: Mean=123.337, Standard Deviation=102.179\n",
      "Mens Items: Mean=137.769, Standard Deviation=127.373\n",
      "Difference in means=14.432\n"
     ]
    }
   ],
   "source": [
    "item_ef('item_price')"
   ]
  },
  {
   "cell_type": "markdown",
   "metadata": {},
   "source": [
    "Our very basic measure of effect size (difference in means) tells us that mens clothes are $14.43 more expensive on average than womens clothing (interesting!)"
   ]
  },
  {
   "cell_type": "markdown",
   "metadata": {},
   "source": [
    "To test for differences in average value between the two categories, we could simply perform a t-test. However, one of the assumptions of a t-test is that the data are equally distributed, and we saw in our visualizations that our data are right skewed. If you have a high enough n (number of samples), non-normality isn't a huge problem (read more about this here https://blog.minitab.com/blog/adventures-in-statistics-2/choosing-between-a-nonparametric-test-and-a-parametric-test), and we do have quite a large n, but we have other options that do not assume normality and we can use those instead. \n",
    "\n",
    "Rather than a t-test, we can use the Mann-Whitney U-test, a non-parametric test that still tests for differences in the average between two categories except it doesn't assume a normal distribution. It does have some other assumptions, which you can read about here (https://statistics.laerd.com/statistical-guides/mann-whitney-u-test-assumptions.php), and here https://machinelearningmastery.com/nonparametric-statistical-significance-tests-in-python/, the main one being that the data in each category have similar distributions (which ours do!) \n",
    "\n",
    "Another test we could do is a permutation test (https://towardsdatascience.com/how-to-assess-statistical-significance-in-your-data-with-permutation-tests-8bb925b2113d) but Mann-Whitney is appropriate and quite easy.\n",
    "\n",
    "Onward with the Mann Whitney U test!\n",
    "\n",
    "First we need to import some functions from a library that we haven't imported yet: the `mannwhitneyu` function from the `stats` component of the `scikitlearn` library"
   ]
  },
  {
   "cell_type": "code",
   "execution_count": 74,
   "metadata": {},
   "outputs": [],
   "source": [
    "from scipy.stats import mannwhitneyu"
   ]
  },
  {
   "cell_type": "code",
   "execution_count": 75,
   "metadata": {},
   "outputs": [],
   "source": [
    "def item_mannwhitney(category):\n",
    "    \"\"\"Prints statistic and P value for Mann Whitney U test for diff in mens and womens items\"\"\"\n",
    "    \n",
    "    w_info = item_data[category].loc[item_data['item_gender'] == 'womens']\n",
    "    m_info = item_data[category].loc[item_data['item_gender'] == 'mens']\n",
    "    \n",
    "    ## the .3f will round the answer to 3 decimal places\n",
    "    stat, p = mannwhitneyu(w_info, m_info)\n",
    "    print('Statistic=%.3f, p-value=%.3f' % (stat, p))"
   ]
  },
  {
   "cell_type": "code",
   "execution_count": 76,
   "metadata": {},
   "outputs": [
    {
     "name": "stdout",
     "output_type": "stream",
     "text": [
      "Statistic=58216.500, p-value=0.166\n"
     ]
    }
   ],
   "source": [
    "item_mannwhitney('item_price')"
   ]
  },
  {
   "cell_type": "markdown",
   "metadata": {},
   "source": [
    "And we can see based on this test that our conclusions based on our visualization were correct - there is not a significant difference between the prices for mens and womens clothing. Our null hypothesis is that mens and womens clothing are the same price on average. The statistical test provided us with a p-value of 0.17, which greater than 0.05. Thus, at an alpha level 0.05 (the common standard in statistical tests), our the difference in prices between the two categories is not significant and thus we fail to reject the null hypothesis. "
   ]
  },
  {
   "cell_type": "markdown",
   "metadata": {},
   "source": [
    "Now onto the color options data\n",
    "\n",
    "First, lets look at effect size (diff in means)"
   ]
  },
  {
   "cell_type": "code",
   "execution_count": 77,
   "metadata": {},
   "outputs": [
    {
     "name": "stdout",
     "output_type": "stream",
     "text": [
      "Womens Items: Mean=3.365, Standard Deviation=1.699\n",
      "Mens Items: Mean=3.485, Standard Deviation=2.188\n",
      "Difference in means=0.120\n"
     ]
    }
   ],
   "source": [
    "item_ef('item_colors')"
   ]
  },
  {
   "cell_type": "markdown",
   "metadata": {},
   "source": [
    "It looks like the average number of color options available for mens and womens items are about the same! \n",
    "\n",
    "Let's check with a Mann-Whitney test"
   ]
  },
  {
   "cell_type": "code",
   "execution_count": 78,
   "metadata": {},
   "outputs": [
    {
     "name": "stdout",
     "output_type": "stream",
     "text": [
      "Statistic=60309.500, p-value=0.426\n"
     ]
    }
   ],
   "source": [
    "item_mannwhitney('item_colors')"
   ]
  },
  {
   "cell_type": "markdown",
   "metadata": {},
   "source": [
    "Indeed there is no statistically significant difference between the average number of color options between the mens and womens items!"
   ]
  },
  {
   "cell_type": "markdown",
   "metadata": {},
   "source": [
    "### Conclusions\n",
    "\n",
    "Phew! That was a lot! But ultimately we reached our goal:\n",
    "\n",
    "**Goal: Scrape the item price and color options for each clothing item at Patagonia to compare the average cost and color availability for men's and women's clothing.**\n",
    "\n",
    "And we found that on average womens and mens clothing items are **about the same**, and mens and womens clothing provide the same number of color options on average! \n",
    "\n",
    "Ultimately, this is good for Patagonia! It means they are not unfairly pricing their items and making womens clothing items more expensive (as many companies do! whether that's consciously or unconsciously) and they are providing equal numbers of color choices between the mens and womens clothing items as well.\n",
    "\n",
    "Along the way we also learned how to scrape data from a website, practiced building functions, data visualizations, and statistical tests to perform a hypothesis test. Nicely done! \n"
   ]
  },
  {
   "cell_type": "markdown",
   "metadata": {},
   "source": [
    "### More resources:\n",
    "\n",
    "[BeautifulSoup Documentation](https://www.crummy.com/software/BeautifulSoup/bs4/doc/)\n",
    "\n",
    "[John Laudin's Blog](http://johnlaudun.org/20180603-understanding-how-beautiful-soup-works/)\n",
    "\n",
    "[Dr K Parker's Data Science Skills](https://towardsdatascience.com/data-science-skills-web-scraping-using-python-d1a85ef607ed)\n"
   ]
  },
  {
   "cell_type": "code",
   "execution_count": null,
   "metadata": {},
   "outputs": [],
   "source": []
  }
 ],
 "metadata": {
  "kernelspec": {
   "display_name": "rtrunway",
   "language": "python",
   "name": "rtrunway"
  },
  "language_info": {
   "codemirror_mode": {
    "name": "ipython",
    "version": 3
   },
   "file_extension": ".py",
   "mimetype": "text/x-python",
   "name": "python",
   "nbconvert_exporter": "python",
   "pygments_lexer": "ipython3",
   "version": "3.8.2"
  }
 },
 "nbformat": 4,
 "nbformat_minor": 4
}
